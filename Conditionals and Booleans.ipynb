{
 "cells": [
  {
   "cell_type": "code",
   "execution_count": 1,
   "metadata": {},
   "outputs": [
    {
     "name": "stdout",
     "output_type": "stream",
     "text": [
      "Try again\n"
     ]
    }
   ],
   "source": [
    "if True:\n",
    "    print('Try again')"
   ]
  },
  {
   "cell_type": "code",
   "execution_count": 3,
   "metadata": {},
   "outputs": [],
   "source": [
    "if False:\n",
    "    print('Try again')"
   ]
  },
  {
   "cell_type": "code",
   "execution_count": 17,
   "metadata": {},
   "outputs": [],
   "source": [
    "course = 'Python'"
   ]
  },
  {
   "cell_type": "code",
   "execution_count": 19,
   "metadata": {},
   "outputs": [
    {
     "name": "stdout",
     "output_type": "stream",
     "text": [
      "course is Python\n"
     ]
    }
   ],
   "source": [
    "if  course == 'DS':\n",
    "    print('course is DS')\n",
    "\n",
    "elif course == 'Python': \n",
    "    print('course is Python')\n",
    "else:\n",
    "    print(' not DS')\n",
    "    "
   ]
  },
  {
   "cell_type": "code",
   "execution_count": 20,
   "metadata": {},
   "outputs": [],
   "source": [
    " a = [1,2,3]\n",
    " b = [1,2,3]"
   ]
  },
  {
   "cell_type": "code",
   "execution_count": 22,
   "metadata": {},
   "outputs": [
    {
     "name": "stdout",
     "output_type": "stream",
     "text": [
      "True\n"
     ]
    }
   ],
   "source": [
    "print(a == b)"
   ]
  },
  {
   "cell_type": "code",
   "execution_count": 23,
   "metadata": {},
   "outputs": [
    {
     "name": "stdout",
     "output_type": "stream",
     "text": [
      "False\n"
     ]
    }
   ],
   "source": [
    "print(a is  b)"
   ]
  },
  {
   "cell_type": "code",
   "execution_count": 24,
   "metadata": {},
   "outputs": [
    {
     "name": "stdout",
     "output_type": "stream",
     "text": [
      "True\n"
     ]
    }
   ],
   "source": [
    "print(a == a)"
   ]
  },
  {
   "cell_type": "code",
   "execution_count": 25,
   "metadata": {},
   "outputs": [
    {
     "name": "stdout",
     "output_type": "stream",
     "text": [
      "True\n"
     ]
    }
   ],
   "source": [
    "print(b == b)"
   ]
  },
  {
   "cell_type": "code",
   "execution_count": 27,
   "metadata": {},
   "outputs": [
    {
     "name": "stdout",
     "output_type": "stream",
     "text": [
      "2073269330120\n",
      "2073269325768\n",
      "140713983191376\n"
     ]
    }
   ],
   "source": [
    "print(id(a))\n",
    "print(id(b))\n",
    "print(id(a == b))\n"
   ]
  },
  {
   "cell_type": "code",
   "execution_count": 33,
   "metadata": {},
   "outputs": [
    {
     "data": {
      "text/plain": [
       "True"
      ]
     },
     "execution_count": 33,
     "metadata": {},
     "output_type": "execute_result"
    }
   ],
   "source": [
    "True"
   ]
  },
  {
   "cell_type": "code",
   "execution_count": 35,
   "metadata": {},
   "outputs": [
    {
     "name": "stdout",
     "output_type": "stream",
     "text": [
      "Evaluation to Flase\n"
     ]
    }
   ],
   "source": [
    "condition = False\n",
    "if condition:\n",
    "    print('Evaluation to true')\n",
    "else:\n",
    "    print('Evaluation to Flase')"
   ]
  },
  {
   "cell_type": "code",
   "execution_count": 36,
   "metadata": {},
   "outputs": [
    {
     "name": "stdout",
     "output_type": "stream",
     "text": [
      "Evaluation to true\n"
     ]
    }
   ],
   "source": [
    "condition = True\n",
    "if condition:\n",
    "    print('Evaluation to true')\n",
    "else:\n",
    "    print('Evaluation to Flase')"
   ]
  },
  {
   "cell_type": "code",
   "execution_count": 37,
   "metadata": {},
   "outputs": [
    {
     "name": "stdout",
     "output_type": "stream",
     "text": [
      "Evaluation to Flase\n"
     ]
    }
   ],
   "source": [
    "condition = 0\n",
    "if condition:\n",
    "    print('Evaluation to true')\n",
    "else:\n",
    "    print('Evaluation to Flase')"
   ]
  },
  {
   "cell_type": "code",
   "execution_count": 38,
   "metadata": {},
   "outputs": [
    {
     "name": "stdout",
     "output_type": "stream",
     "text": [
      "Evaluation to true\n"
     ]
    }
   ],
   "source": [
    "condition = 1\n",
    "if condition:\n",
    "    print('Evaluation to true')\n",
    "else:\n",
    "    print('Evaluation to Flase')"
   ]
  },
  {
   "cell_type": "code",
   "execution_count": 40,
   "metadata": {},
   "outputs": [
    {
     "name": "stdout",
     "output_type": "stream",
     "text": [
      "Evaluation to Flase\n"
     ]
    }
   ],
   "source": [
    "condition = None\n",
    "if condition:\n",
    "    print('Evaluation to true')\n",
    "else:\n",
    "    print('Evaluation to Flase')"
   ]
  },
  {
   "cell_type": "code",
   "execution_count": 41,
   "metadata": {},
   "outputs": [
    {
     "name": "stdout",
     "output_type": "stream",
     "text": [
      "Evaluation to true\n"
     ]
    }
   ],
   "source": [
    "condition = 10\n",
    "if condition:\n",
    "    print('Evaluation to true')\n",
    "else:\n",
    "    print('Evaluation to Flase')"
   ]
  },
  {
   "cell_type": "code",
   "execution_count": 42,
   "metadata": {},
   "outputs": [
    {
     "name": "stdout",
     "output_type": "stream",
     "text": [
      "Evaluation to true\n"
     ]
    }
   ],
   "source": [
    "condition = 13\n",
    "if condition:\n",
    "    print('Evaluation to true')\n",
    "else:\n",
    "    print('Evaluation to Flase')"
   ]
  },
  {
   "cell_type": "code",
   "execution_count": 43,
   "metadata": {},
   "outputs": [
    {
     "name": "stdout",
     "output_type": "stream",
     "text": [
      "Evaluation to Flase\n"
     ]
    }
   ],
   "source": [
    "condition = []\n",
    "if condition:\n",
    "    print('Evaluation to true')\n",
    "else:\n",
    "    print('Evaluation to Flase')"
   ]
  },
  {
   "cell_type": "code",
   "execution_count": 44,
   "metadata": {},
   "outputs": [
    {
     "name": "stdout",
     "output_type": "stream",
     "text": [
      "Evaluation to true\n"
     ]
    }
   ],
   "source": [
    "condition = [0]\n",
    "if condition:\n",
    "    print('Evaluation to true')\n",
    "else:\n",
    "    print('Evaluation to Flase')"
   ]
  },
  {
   "cell_type": "code",
   "execution_count": 45,
   "metadata": {},
   "outputs": [
    {
     "name": "stdout",
     "output_type": "stream",
     "text": [
      "Evaluation to true\n"
     ]
    }
   ],
   "source": [
    "condition = [1]\n",
    "if condition:\n",
    "    print('Evaluation to true')\n",
    "else:\n",
    "    print('Evaluation to Flase')"
   ]
  },
  {
   "cell_type": "code",
   "execution_count": 46,
   "metadata": {},
   "outputs": [
    {
     "name": "stdout",
     "output_type": "stream",
     "text": [
      "Evaluation to Flase\n"
     ]
    }
   ],
   "source": [
    "condition = {}\n",
    "if condition:\n",
    "    print('Evaluation to true')\n",
    "else:\n",
    "    print('Evaluation to Flase')"
   ]
  },
  {
   "cell_type": "code",
   "execution_count": 47,
   "metadata": {},
   "outputs": [
    {
     "name": "stdout",
     "output_type": "stream",
     "text": [
      "Evaluation to true\n"
     ]
    }
   ],
   "source": [
    "condition = [10]\n",
    "if condition:\n",
    "    print('Evaluation to true')\n",
    "else:\n",
    "    print('Evaluation to Flase')"
   ]
  },
  {
   "cell_type": "code",
   "execution_count": 50,
   "metadata": {},
   "outputs": [
    {
     "name": "stdout",
     "output_type": "stream",
     "text": [
      "Evaluation to Flase\n"
     ]
    }
   ],
   "source": [
    "condition = []\n",
    "if condition:\n",
    "    print('Evaluation to true')\n",
    "else:\n",
    "    print('Evaluation to Flase')"
   ]
  },
  {
   "cell_type": "code",
   "execution_count": 51,
   "metadata": {},
   "outputs": [
    {
     "name": "stdout",
     "output_type": "stream",
     "text": [
      "Evaluation to Flase\n"
     ]
    }
   ],
   "source": [
    "condition = []\n",
    "if condition:\n",
    "    print('Evaluation to true')\n",
    "else:\n",
    "    print('Evaluation to Flase')"
   ]
  },
  {
   "cell_type": "code",
   "execution_count": null,
   "metadata": {},
   "outputs": [],
   "source": []
  }
 ],
 "metadata": {
  "kernelspec": {
   "display_name": "Python 3",
   "language": "python",
   "name": "python3"
  },
  "language_info": {
   "codemirror_mode": {
    "name": "ipython",
    "version": 3
   },
   "file_extension": ".py",
   "mimetype": "text/x-python",
   "name": "python",
   "nbconvert_exporter": "python",
   "pygments_lexer": "ipython3",
   "version": "3.7.4"
  }
 },
 "nbformat": 4,
 "nbformat_minor": 2
}
